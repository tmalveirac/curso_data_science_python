{
 "cells": [
  {
   "cell_type": "code",
   "execution_count": 5,
   "metadata": {},
   "outputs": [
    {
     "name": "stdout",
     "output_type": "stream",
     "text": [
      "(1, 'python', 2, 3)\n",
      "(2, 3)\n"
     ]
    }
   ],
   "source": [
    "tupla = (1,'python',2,3) # Tuplas são IMUTÁVEIS\n",
    "print(tupla)\n",
    "print(tupla[-2:])"
   ]
  },
  {
   "cell_type": "code",
   "execution_count": 7,
   "metadata": {},
   "outputs": [
    {
     "name": "stdout",
     "output_type": "stream",
     "text": [
      "Help on class tuple in module builtins:\n",
      "\n",
      "class tuple(object)\n",
      " |  tuple() -> empty tuple\n",
      " |  tuple(iterable) -> tuple initialized from iterable's items\n",
      " |  \n",
      " |  If the argument is a tuple, the return value is the same object.\n",
      " |  \n",
      " |  Methods defined here:\n",
      " |  \n",
      " |  __add__(self, value, /)\n",
      " |      Return self+value.\n",
      " |  \n",
      " |  __contains__(self, key, /)\n",
      " |      Return key in self.\n",
      " |  \n",
      " |  __eq__(self, value, /)\n",
      " |      Return self==value.\n",
      " |  \n",
      " |  __ge__(self, value, /)\n",
      " |      Return self>=value.\n",
      " |  \n",
      " |  __getattribute__(self, name, /)\n",
      " |      Return getattr(self, name).\n",
      " |  \n",
      " |  __getitem__(self, key, /)\n",
      " |      Return self[key].\n",
      " |  \n",
      " |  __getnewargs__(...)\n",
      " |  \n",
      " |  __gt__(self, value, /)\n",
      " |      Return self>value.\n",
      " |  \n",
      " |  __hash__(self, /)\n",
      " |      Return hash(self).\n",
      " |  \n",
      " |  __iter__(self, /)\n",
      " |      Implement iter(self).\n",
      " |  \n",
      " |  __le__(self, value, /)\n",
      " |      Return self<=value.\n",
      " |  \n",
      " |  __len__(self, /)\n",
      " |      Return len(self).\n",
      " |  \n",
      " |  __lt__(self, value, /)\n",
      " |      Return self<value.\n",
      " |  \n",
      " |  __mul__(self, value, /)\n",
      " |      Return self*value.n\n",
      " |  \n",
      " |  __ne__(self, value, /)\n",
      " |      Return self!=value.\n",
      " |  \n",
      " |  __new__(*args, **kwargs) from builtins.type\n",
      " |      Create and return a new object.  See help(type) for accurate signature.\n",
      " |  \n",
      " |  __repr__(self, /)\n",
      " |      Return repr(self).\n",
      " |  \n",
      " |  __rmul__(self, value, /)\n",
      " |      Return self*value.\n",
      " |  \n",
      " |  count(...)\n",
      " |      T.count(value) -> integer -- return number of occurrences of value\n",
      " |  \n",
      " |  index(...)\n",
      " |      T.index(value, [start, [stop]]) -> integer -- return first index of value.\n",
      " |      Raises ValueError if the value is not present.\n",
      "\n",
      "None\n"
     ]
    }
   ],
   "source": [
    "print(help(tuple))"
   ]
  },
  {
   "cell_type": "code",
   "execution_count": 9,
   "metadata": {},
   "outputs": [
    {
     "name": "stdout",
     "output_type": "stream",
     "text": [
      "3\n"
     ]
    }
   ],
   "source": [
    "tupla = (1,2,3,4,4,4,5,6,1)\n",
    "print(tupla.count(4))"
   ]
  },
  {
   "cell_type": "code",
   "execution_count": 12,
   "metadata": {},
   "outputs": [
    {
     "name": "stdout",
     "output_type": "stream",
     "text": [
      "0\n",
      "4\n"
     ]
    }
   ],
   "source": [
    "tupla1 = (1,1,2,3, 'python')\n",
    "print(tupla1.index(1))\n",
    "print(tupla1.index('python'))"
   ]
  },
  {
   "cell_type": "code",
   "execution_count": 24,
   "metadata": {},
   "outputs": [
    {
     "name": "stdout",
     "output_type": "stream",
     "text": [
      "<class 'set'>\n",
      "{1, 10, 3}\n",
      "{1, 2, 3, 4, 5, 10}\n",
      "{10, 3}\n",
      "{1}\n",
      "{1, 10, 3}\n"
     ]
    }
   ],
   "source": [
    "#Conjuntos\n",
    "s = set()\n",
    "print(type(s))\n",
    "\n",
    "s.add(1)\n",
    "s.add(3)\n",
    "s.add(10)\n",
    "print(s)\n",
    "\n",
    "s2 = {2,3,4,5,10}\n",
    "\n",
    "print(s.union(s2))\n",
    "print(s.intersection(s2))\n",
    "print(s.difference(s2))\n",
    "print(s)\n",
    "\n",
    "#Set não suporta indexação"
   ]
  },
  {
   "cell_type": "code",
   "execution_count": 27,
   "metadata": {},
   "outputs": [
    {
     "name": "stdout",
     "output_type": "stream",
     "text": [
      "{1, 2, 3, 4, 5, 6, 7}\n"
     ]
    }
   ],
   "source": [
    "lista = [1,2,2,3,3,3,4,4,4,5,5,6,6,7]\n",
    "s = set(lista)\n",
    "print(s)"
   ]
  },
  {
   "cell_type": "code",
   "execution_count": 37,
   "metadata": {},
   "outputs": [
    {
     "name": "stdout",
     "output_type": "stream",
     "text": [
      "{'Tiago': 31, 'Maria': 20, 'João': 10}\n",
      "31\n",
      "{'Tiago': 31, 'Maria': 20, 'João': 10, 'Jorge': 22}\n",
      "{'Tiago': 1, 'Maria': 20, 'João': 10, 'Jorge': 22}\n",
      "1 20 10 22 dict_items([('Tiago', 1), ('Maria', 20), ('João', 10), ('Jorge', 22)])\n",
      "dict_keys(['Tiago', 'Maria', 'João', 'Jorge'])\n",
      "dict_values([1, 20, 10, 22])\n",
      "True\n",
      "False\n"
     ]
    }
   ],
   "source": [
    "#Dicionários\n",
    "d = {\"Tiago\":31, \"Maria\":20, \"João\":10}\n",
    "print(d)\n",
    "print(d[\"Tiago\"])\n",
    "d['Jorge'] = 22\n",
    "print(d)\n",
    "d['Tiago'] = 1\n",
    "print(d)\n",
    "\n",
    "for x in d:\n",
    "    print(d[x], end=' ')\n",
    "    \n",
    "print(d.items())\n",
    "print(d.keys())\n",
    "print(d.values())\n",
    "print('Tiago' in d)\n",
    "print('python' in d)"
   ]
  }
 ],
 "metadata": {
  "kernelspec": {
   "display_name": "Python 3",
   "language": "python",
   "name": "python3"
  },
  "language_info": {
   "codemirror_mode": {
    "name": "ipython",
    "version": 3
   },
   "file_extension": ".py",
   "mimetype": "text/x-python",
   "name": "python",
   "nbconvert_exporter": "python",
   "pygments_lexer": "ipython3",
   "version": "3.6.3"
  }
 },
 "nbformat": 4,
 "nbformat_minor": 2
}
