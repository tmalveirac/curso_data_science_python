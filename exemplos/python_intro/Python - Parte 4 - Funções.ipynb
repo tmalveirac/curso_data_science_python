{
 "cells": [
  {
   "cell_type": "code",
   "execution_count": 2,
   "metadata": {},
   "outputs": [
    {
     "name": "stdout",
     "output_type": "stream",
     "text": [
      "3\n"
     ]
    }
   ],
   "source": [
    "def somar(n1, n2):\n",
    "    return n1+n2\n",
    "\n",
    "print(somar(1,2))"
   ]
  },
  {
   "cell_type": "code",
   "execution_count": 4,
   "metadata": {},
   "outputs": [
    {
     "name": "stdout",
     "output_type": "stream",
     "text": [
      "True\n"
     ]
    }
   ],
   "source": [
    "def e_par(x):\n",
    "    return x % 2 == 0\n",
    "\n",
    "print(e_par(4))"
   ]
  },
  {
   "cell_type": "code",
   "execution_count": 7,
   "metadata": {},
   "outputs": [
    {
     "name": "stdout",
     "output_type": "stream",
     "text": [
      "15\n",
      "6\n"
     ]
    }
   ],
   "source": [
    "def foo(*args):\n",
    "    return sum(*args)\n",
    "print(foo([1,2,3,4,5]))\n",
    "print(foo([1,2,3]))"
   ]
  },
  {
   "cell_type": "code",
   "execution_count": 9,
   "metadata": {},
   "outputs": [
    {
     "name": "stdout",
     "output_type": "stream",
     "text": [
      "Funçṍes são objetos\n"
     ]
    }
   ],
   "source": [
    "imprimir = print \n",
    "imprimir(\"Funçṍes são objetos\")"
   ]
  },
  {
   "cell_type": "code",
   "execution_count": 20,
   "metadata": {},
   "outputs": [
    {
     "name": "stdout",
     "output_type": "stream",
     "text": [
      "120\n"
     ]
    }
   ],
   "source": [
    "#Fatorial\n",
    "\n",
    "def fatorial(x):\n",
    "    if x == 0 or x == 1:\n",
    "        return 1\n",
    "    else:\n",
    "        return x * fatorial(x-1)\n",
    "\n",
    "print(fatorial(5))"
   ]
  },
  {
   "cell_type": "code",
   "execution_count": 24,
   "metadata": {},
   "outputs": [
    {
     "name": "stdout",
     "output_type": "stream",
     "text": [
      "desconhecido\n",
      "Teste\n"
     ]
    }
   ],
   "source": [
    "def imprimir(nome='desconhecido'):\n",
    "    print(nome)\n",
    "    \n",
    "imprimir()\n",
    "imprimir(\"Teste\")"
   ]
  },
  {
   "cell_type": "code",
   "execution_count": 28,
   "metadata": {},
   "outputs": [
    {
     "name": "stdout",
     "output_type": "stream",
     "text": [
      "60\n"
     ]
    }
   ],
   "source": [
    "def somar(x, y, z, f): #Função como parâmetro\n",
    "    return x + f(y,z)\n",
    "\n",
    "def f(x, y):\n",
    "    return x + y\n",
    "\n",
    "print(somar(10,20,30,f))"
   ]
  },
  {
   "cell_type": "code",
   "execution_count": 30,
   "metadata": {},
   "outputs": [
    {
     "name": "stdout",
     "output_type": "stream",
     "text": [
      "12\n"
     ]
    }
   ],
   "source": [
    "#Funções Lambda\n",
    "a = lambda x: x*2\n",
    "\n",
    "print(a(6))"
   ]
  },
  {
   "cell_type": "code",
   "execution_count": 51,
   "metadata": {},
   "outputs": [
    {
     "name": "stdout",
     "output_type": "stream",
     "text": [
      "[1, 2, 3] [1, 2]\n",
      "1 2 3\n"
     ]
    }
   ],
   "source": [
    "def foo(*args):\n",
    "    print(*args)\n",
    "    \n",
    "foo([1,2,3], [1,2])\n",
    "foo(1,2,3)"
   ]
  },
  {
   "cell_type": "code",
   "execution_count": 56,
   "metadata": {},
   "outputs": [
    {
     "name": "stdout",
     "output_type": "stream",
     "text": [
      "1 2 3 4 5 \n",
      "a b "
     ]
    }
   ],
   "source": [
    "def funcao(*parametros):\n",
    "    for parametro in parametros:\n",
    "        print(parametro, end=' ')\n",
    "\n",
    "def funcao2(**parametros):\n",
    "    for parametro in parametros:\n",
    "        print(parametro, end=' ')\n",
    "\n",
    "funcao(1, 2, 3, 4, 5)\n",
    "print()\n",
    "funcao2(a = 2, b = 3)"
   ]
  }
 ],
 "metadata": {
  "kernelspec": {
   "display_name": "Python 3",
   "language": "python",
   "name": "python3"
  },
  "language_info": {
   "codemirror_mode": {
    "name": "ipython",
    "version": 3
   },
   "file_extension": ".py",
   "mimetype": "text/x-python",
   "name": "python",
   "nbconvert_exporter": "python",
   "pygments_lexer": "ipython3",
   "version": "3.6.3"
  }
 },
 "nbformat": 4,
 "nbformat_minor": 2
}
