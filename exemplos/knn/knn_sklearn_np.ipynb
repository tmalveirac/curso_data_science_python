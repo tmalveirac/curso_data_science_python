{
 "cells": [
  {
   "cell_type": "code",
   "execution_count": 2,
   "metadata": {},
   "outputs": [],
   "source": [
    "'''\n",
    "Dataset http://archive.ics.uci.edu/ml/datasets/balance+scale\n",
    "\n",
    "L - 1\n",
    "B - 2\n",
    "R - 3\n",
    "\n",
    "'''\n",
    "import numpy as np"
   ]
  },
  {
   "cell_type": "code",
   "execution_count": 4,
   "metadata": {},
   "outputs": [
    {
     "name": "stdout",
     "output_type": "stream",
     "text": [
      "625\n",
      "625\n"
     ]
    }
   ],
   "source": [
    "# Entrada: x ; Saída: y\n",
    "x = np.genfromtxt('../balance-scale.data', delimiter=',', usecols=(1,2,3,4))\n",
    "y = np.genfromtxt('../balance-scale.data', delimiter=',', usecols=(0))\n",
    "\n",
    "print(len(x))\n",
    "print(len(y))"
   ]
  },
  {
   "cell_type": "code",
   "execution_count": 6,
   "metadata": {},
   "outputs": [],
   "source": [
    "#Prepação das bases de Treinamento e Teste com sklearn\n",
    "from sklearn.model_selection import train_test_split"
   ]
  },
  {
   "cell_type": "code",
   "execution_count": 7,
   "metadata": {},
   "outputs": [],
   "source": [
    "x_treino, x_teste, y_treino, y_teste = train_test_split(x, y, test_size=0.3, random_state=42)"
   ]
  },
  {
   "cell_type": "code",
   "execution_count": 9,
   "metadata": {},
   "outputs": [
    {
     "name": "stdout",
     "output_type": "stream",
     "text": [
      "437\n",
      "437\n",
      "188\n",
      "188\n"
     ]
    }
   ],
   "source": [
    "print(len(x_treino))\n",
    "print(len(y_treino))\n",
    "print(len(x_teste))\n",
    "print(len(y_teste))"
   ]
  },
  {
   "cell_type": "code",
   "execution_count": 15,
   "metadata": {},
   "outputs": [
    {
     "data": {
      "text/plain": [
       "array([[2., 4., 1., 5.],\n",
       "       [1., 4., 3., 4.],\n",
       "       [5., 1., 5., 3.],\n",
       "       ...,\n",
       "       [3., 1., 5., 1.],\n",
       "       [4., 3., 3., 1.],\n",
       "       [1., 5., 1., 3.]])"
      ]
     },
     "execution_count": 15,
     "metadata": {},
     "output_type": "execute_result"
    }
   ],
   "source": [
    "x_treino"
   ]
  },
  {
   "cell_type": "code",
   "execution_count": 17,
   "metadata": {},
   "outputs": [],
   "source": [
    "from sklearn.neighbors import KNeighborsClassifier"
   ]
  },
  {
   "cell_type": "code",
   "execution_count": 24,
   "metadata": {},
   "outputs": [
    {
     "name": "stdout",
     "output_type": "stream",
     "text": [
      "188\n"
     ]
    },
    {
     "data": {
      "text/plain": [
       "array([1., 1., 1., 1., 1., 1., 3., 1., 1., 3., 3., 3., 1., 3., 1., 1., 3.,\n",
       "       3., 3., 1., 3., 3., 3., 1., 1., 1., 3., 1., 1., 1., 1., 3., 3., 1.,\n",
       "       3., 1., 1., 1., 1., 1., 1., 3., 1., 1., 3., 1., 1., 3., 1., 3., 1.,\n",
       "       1., 3., 3., 1., 1., 3., 1., 1., 1., 1., 1., 3., 3., 1., 1., 3., 3.,\n",
       "       1., 1., 3., 3., 3., 3., 3., 1., 1., 3., 1., 3., 3., 3., 3., 1., 3.,\n",
       "       1., 1., 1., 3., 1., 1., 1., 3., 1., 1., 3., 3., 3., 3., 3., 1., 3.,\n",
       "       3., 3., 1., 1., 1., 3., 3., 1., 3., 1., 3., 3., 1., 3., 1., 1., 1.,\n",
       "       1., 3., 3., 1., 3., 3., 3., 3., 3., 1., 3., 1., 1., 1., 3., 1., 1.,\n",
       "       1., 3., 1., 1., 1., 1., 3., 3., 1., 3., 3., 1., 3., 3., 3., 3., 3.,\n",
       "       1., 1., 3., 1., 1., 3., 1., 1., 3., 3., 1., 1., 1., 3., 1., 3., 3.,\n",
       "       1., 3., 3., 3., 1., 1., 1., 1., 3., 1., 3., 3., 1., 3., 3., 3., 3.,\n",
       "       1.])"
      ]
     },
     "execution_count": 24,
     "metadata": {},
     "output_type": "execute_result"
    }
   ],
   "source": [
    "knn = KNeighborsClassifier(n_neighbors=17)\n",
    "knn.fit(x_treino, y_treino)\n",
    "labels = knn.predict(x_teste)\n",
    "print(len(labels))\n",
    "labels"
   ]
  },
  {
   "cell_type": "code",
   "execution_count": 26,
   "metadata": {},
   "outputs": [
    {
     "data": {
      "text/plain": [
       "163"
      ]
     },
     "execution_count": 26,
     "metadata": {},
     "output_type": "execute_result"
    }
   ],
   "source": [
    "np.sum(labels == y_teste)"
   ]
  },
  {
   "cell_type": "code",
   "execution_count": 27,
   "metadata": {},
   "outputs": [
    {
     "data": {
      "text/plain": [
       "163"
      ]
     },
     "execution_count": 27,
     "metadata": {},
     "output_type": "execute_result"
    }
   ],
   "source": [
    "(labels == y_teste).sum()"
   ]
  },
  {
   "cell_type": "code",
   "execution_count": 29,
   "metadata": {},
   "outputs": [
    {
     "data": {
      "text/plain": [
       "86.70212765957447"
      ]
     },
     "execution_count": 29,
     "metadata": {},
     "output_type": "execute_result"
    }
   ],
   "source": [
    "#Percentual de Acertos\n",
    "100 * (labels == y_teste).sum() / len(y_teste)"
   ]
  },
  {
   "cell_type": "code",
   "execution_count": 30,
   "metadata": {},
   "outputs": [
    {
     "data": {
      "text/plain": [
       "0.8670212765957447"
      ]
     },
     "execution_count": 30,
     "metadata": {},
     "output_type": "execute_result"
    }
   ],
   "source": [
    "knn.score(x_teste, y_teste)"
   ]
  },
  {
   "cell_type": "code",
   "execution_count": 31,
   "metadata": {},
   "outputs": [
    {
     "data": {
      "text/plain": [
       "0.8670212765957447"
      ]
     },
     "execution_count": 31,
     "metadata": {},
     "output_type": "execute_result"
    }
   ],
   "source": [
    "np.mean(labels == y_teste)"
   ]
  },
  {
   "cell_type": "code",
   "execution_count": null,
   "metadata": {},
   "outputs": [],
   "source": []
  }
 ],
 "metadata": {
  "kernelspec": {
   "display_name": "Python 3",
   "language": "python",
   "name": "python3"
  },
  "language_info": {
   "codemirror_mode": {
    "name": "ipython",
    "version": 3
   },
   "file_extension": ".py",
   "mimetype": "text/x-python",
   "name": "python",
   "nbconvert_exporter": "python",
   "pygments_lexer": "ipython3",
   "version": "3.7.1"
  }
 },
 "nbformat": 4,
 "nbformat_minor": 2
}
