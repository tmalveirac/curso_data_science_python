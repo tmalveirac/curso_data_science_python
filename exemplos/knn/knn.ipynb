{
 "cells": [
  {
   "cell_type": "code",
   "execution_count": 1,
   "metadata": {},
   "outputs": [],
   "source": [
    "# Para utilizar o KNN, é preciso:\n",
    "# 1. Exemplos de Treinamento;\n",
    "# 2. Método para calcular distância\n",
    "# 3. Escolha de um valor para K\n",
    "import numpy as np"
   ]
  },
  {
   "cell_type": "code",
   "execution_count": 2,
   "metadata": {},
   "outputs": [],
   "source": [
    "#Distância Euclidiana\n",
    "#Pontos de Exemplo:\n",
    "v1 = [1.2, 2, 3.8, 4.5]\n",
    "v2 = [0.5, 4.5, 9.6, 3.4]"
   ]
  },
  {
   "cell_type": "code",
   "execution_count": 3,
   "metadata": {},
   "outputs": [],
   "source": [
    "def distancia_euclidiana(x,y):\n",
    "    dim, soma = len(x), 0\n",
    "    for i in range(dim):\n",
    "        soma += ((x[i] - y[i])**2)\n",
    "    return soma ** (0.5)          "
   ]
  },
  {
   "cell_type": "code",
   "execution_count": 4,
   "metadata": {},
   "outputs": [
    {
     "name": "stdout",
     "output_type": "stream",
     "text": [
      "6.45\n"
     ]
    }
   ],
   "source": [
    "print('%.2f' % distancia_euclidiana(v1,v2))"
   ]
  },
  {
   "cell_type": "code",
   "execution_count": 5,
   "metadata": {},
   "outputs": [],
   "source": [
    "#Com NumPy\n",
    "def dist_euclidiana_np(x,y):\n",
    "    v1, v2 = np.array(x), np.array(y)\n",
    "    diff = v1 - v2\n",
    "    soma = np.dot(diff, diff)\n",
    "    return np.sqrt(soma)"
   ]
  },
  {
   "cell_type": "code",
   "execution_count": 6,
   "metadata": {},
   "outputs": [
    {
     "name": "stdout",
     "output_type": "stream",
     "text": [
      "6.45\n"
     ]
    }
   ],
   "source": [
    "print('%.2f' % dist_euclidiana_np(v1,v2))"
   ]
  },
  {
   "cell_type": "code",
   "execution_count": 31,
   "metadata": {},
   "outputs": [],
   "source": [
    "#Lendo os dados do Arquivo\n",
    "amostras = []"
   ]
  },
  {
   "cell_type": "code",
   "execution_count": 32,
   "metadata": {},
   "outputs": [],
   "source": [
    "with open('../haberman.data', 'r') as f:\n",
    "    for linha in f.readlines():\n",
    "        atrib = linha.replace('\\n', '').split(',')\n",
    "        amostras.append([int(atrib[0]), int(atrib[1]), int(atrib[2]), int(atrib[3])])"
   ]
  },
  {
   "cell_type": "code",
   "execution_count": 33,
   "metadata": {},
   "outputs": [
    {
     "data": {
      "text/plain": [
       "306"
      ]
     },
     "execution_count": 33,
     "metadata": {},
     "output_type": "execute_result"
    }
   ],
   "source": [
    "len(amostras)"
   ]
  },
  {
   "cell_type": "code",
   "execution_count": 22,
   "metadata": {},
   "outputs": [],
   "source": [
    "def info_dataset(amostras, verbose=True):\n",
    "    if verbose:\n",
    "        print('Tamanho da amostra: %d' % len(amostras))\n",
    "    rotulo1, rotulo2 = 0, 0\n",
    "    for l in amostras:\n",
    "        if (l[-1] == 1):\n",
    "            rotulo1 += 1\n",
    "        else:\n",
    "            rotulo2 += 1\n",
    "    if verbose:\n",
    "        print('Total Rótulo 1: %d' % rotulo1)\n",
    "        print('Total Rótulo 2: %d' % rotulo2)\n",
    "    return (len(amostras), rotulo1, rotulo2)"
   ]
  },
  {
   "cell_type": "code",
   "execution_count": 34,
   "metadata": {},
   "outputs": [
    {
     "name": "stdout",
     "output_type": "stream",
     "text": [
      "Tamanho da amostra: 306\n",
      "Total Rótulo 1: 225\n",
      "Total Rótulo 2: 81\n"
     ]
    },
    {
     "data": {
      "text/plain": [
       "(306, 225, 81)"
      ]
     },
     "execution_count": 34,
     "metadata": {},
     "output_type": "execute_result"
    }
   ],
   "source": [
    "info_dataset(amostras)"
   ]
  },
  {
   "cell_type": "code",
   "execution_count": 26,
   "metadata": {},
   "outputs": [],
   "source": [
    "# Amostragem \n",
    "# Treinamento e Teste"
   ]
  },
  {
   "cell_type": "code",
   "execution_count": 35,
   "metadata": {},
   "outputs": [
    {
     "data": {
      "text/plain": [
       "225"
      ]
     },
     "execution_count": 35,
     "metadata": {},
     "output_type": "execute_result"
    }
   ],
   "source": [
    "p = 0.6\n",
    "_, rotulo1, rotulo2 = info_dataset(amostras,False)\n",
    "rotulo1"
   ]
  },
  {
   "cell_type": "code",
   "execution_count": 59,
   "metadata": {},
   "outputs": [],
   "source": [
    "treinamento, teste = [], []\n",
    "max_rotulo1, max_rotulo2 = int(p * rotulo1), int(p * rotulo2)\n",
    "total_rotulo1, total_rotulo2 = 0,0\n",
    "for amostra in amostras:\n",
    "    if (total_rotulo1 + total_rotulo2) < (max_rotulo1 + max_rotulo2):\n",
    "        if (amostra[-1] == 1) and (total_rotulo1 < max_rotulo1):\n",
    "            total_rotulo1 += 1\n",
    "        else:\n",
    "            total_rotulo2 += 1\n",
    "        treinamento.append(amostra)\n",
    "    else:\n",
    "        teste.append(amostra)"
   ]
  },
  {
   "cell_type": "code",
   "execution_count": 60,
   "metadata": {},
   "outputs": [
    {
     "name": "stdout",
     "output_type": "stream",
     "text": [
      "Tamanho da amostra: 183\n",
      "Total Rótulo 1: 132\n",
      "Total Rótulo 2: 51\n"
     ]
    },
    {
     "data": {
      "text/plain": [
       "(183, 132, 51)"
      ]
     },
     "execution_count": 60,
     "metadata": {},
     "output_type": "execute_result"
    }
   ],
   "source": [
    "info_dataset(treinamento)"
   ]
  },
  {
   "cell_type": "code",
   "execution_count": 62,
   "metadata": {},
   "outputs": [
    {
     "name": "stdout",
     "output_type": "stream",
     "text": [
      "Tamanho da amostra: 123\n",
      "Total Rótulo 1: 93\n",
      "Total Rótulo 2: 30\n"
     ]
    },
    {
     "data": {
      "text/plain": [
       "(123, 93, 30)"
      ]
     },
     "execution_count": 62,
     "metadata": {},
     "output_type": "execute_result"
    }
   ],
   "source": [
    "info_dataset(teste)"
   ]
  },
  {
   "cell_type": "code",
   "execution_count": 64,
   "metadata": {},
   "outputs": [],
   "source": [
    "#Distancia Euclidiana\n",
    "def distancia_euclidiana(x,y):\n",
    "    dim, soma = len(x), 0\n",
    "    for i in range(dim - 1):\n",
    "        soma += ((x[i] - y[i])**2)\n",
    "    return soma ** (0.5)  "
   ]
  },
  {
   "cell_type": "code",
   "execution_count": 86,
   "metadata": {},
   "outputs": [],
   "source": [
    "#KNN\n",
    "def knn(treinamento, nova_amostra, K):\n",
    "    dists, tam_treinamento = {}, len(treinamento) \n",
    "    #Calcula a distância da nova amostra para todos os registros do treinamento\n",
    "    for i in range(tam_treinamento):\n",
    "        d = distancia_euclidiana(treinamento[i], nova_amostra)\n",
    "        dists[i] = d\n",
    "    \n",
    "    #Obtém as chaves dos k-vizinhos mais próximos\n",
    "    k_vizinhos = sorted(dists, key=dists.get)[:K]\n",
    "    \n",
    "    #Votação Majoritária\n",
    "    qtd_rotulo1, qtd_rotulo2 = 0,0\n",
    "    for i in k_vizinhos:\n",
    "        if treinamento[i][-1] == 1:\n",
    "            qtd_rotulo1 += 1\n",
    "        else:\n",
    "            qtd_rotulo2 += 1\n",
    "    if qtd_rotulo1 > qtd_rotulo2:\n",
    "        return 1\n",
    "    else:\n",
    "        return 2     "
   ]
  },
  {
   "cell_type": "code",
   "execution_count": 87,
   "metadata": {},
   "outputs": [
    {
     "data": {
      "text/plain": [
       "[3, 2]"
      ]
     },
     "execution_count": 87,
     "metadata": {},
     "output_type": "execute_result"
    }
   ],
   "source": [
    "d = {1:2.3, 2:1.3, 3:0.4, 4:9.2}\n",
    "sorted(d, key=d.get)[:2]"
   ]
  },
  {
   "cell_type": "code",
   "execution_count": 131,
   "metadata": {},
   "outputs": [
    {
     "name": "stdout",
     "output_type": "stream",
     "text": [
      "93\n",
      "183\n",
      "123\n",
      "75.61%\n"
     ]
    }
   ],
   "source": [
    "acertos, K = 0, 15\n",
    "for amostra in teste: \n",
    "    x = knn(treinamento, amostra, K) \n",
    "    if x == amostra[-1]: \n",
    "        acertos += 1\n",
    "print(acertos) \n",
    "print(len(treinamento))\n",
    "print(len(teste)) \n",
    "print('%.2f%%' % (100*acertos/len(teste)))"
   ]
  },
  {
   "cell_type": "markdown",
   "metadata": {},
   "source": []
  }
 ],
 "metadata": {
  "kernelspec": {
   "display_name": "Python 3",
   "language": "python",
   "name": "python3"
  },
  "language_info": {
   "codemirror_mode": {
    "name": "ipython",
    "version": 3
   },
   "file_extension": ".py",
   "mimetype": "text/x-python",
   "name": "python",
   "nbconvert_exporter": "python",
   "pygments_lexer": "ipython3",
   "version": "3.7.1"
  }
 },
 "nbformat": 4,
 "nbformat_minor": 2
}
