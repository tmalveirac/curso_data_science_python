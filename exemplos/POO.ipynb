{
 "cells": [
  {
   "cell_type": "code",
   "execution_count": 4,
   "metadata": {},
   "outputs": [
    {
     "data": {
      "text/plain": [
       "str"
      ]
     },
     "execution_count": 4,
     "metadata": {},
     "output_type": "execute_result"
    }
   ],
   "source": [
    "type('Teste')\n",
    "#help(str)"
   ]
  },
  {
   "cell_type": "code",
   "execution_count": null,
   "metadata": {
    "collapsed": true
   },
   "outputs": [],
   "source": []
  },
  {
   "cell_type": "code",
   "execution_count": 9,
   "metadata": {},
   "outputs": [
    {
     "name": "stdout",
     "output_type": "stream",
     "text": [
      "tiago\n",
      "31\n",
      "tiago\n"
     ]
    }
   ],
   "source": [
    "class Pessoa:\n",
    "    \n",
    "    def __init__(self, nome, idade): #Todo método possui um atributo self\n",
    "        self.nome = nome\n",
    "        self.idade = idade\n",
    "        \n",
    "    def imprimir_nome(self):\n",
    "        print(self.nome)\n",
    "        \n",
    "p = Pessoa('tiago', 31)\n",
    "\n",
    "print(p.nome)\n",
    "print(p.idade)\n",
    "c.imprimir_nome()"
   ]
  },
  {
   "cell_type": "code",
   "execution_count": 14,
   "metadata": {},
   "outputs": [
    {
     "name": "stdout",
     "output_type": "stream",
     "text": [
      "100\n",
      "1234\n",
      "123\n"
     ]
    }
   ],
   "source": [
    "class Conta:\n",
    "    \n",
    "    def __init__(self, cliente, numero):\n",
    "        self.cliente = cliente\n",
    "        self.numero = numero\n",
    "        \n",
    "class ContaEspecial(Conta):\n",
    "    \n",
    "        def __init__(self, cliente, numero, limite=0):\n",
    "            Conta.__init__(self, cliente, numero)\n",
    "            self.limite = limite\n",
    "            \n",
    "            \n",
    "conta = ContaEspecial('tiago', 1234, 100)\n",
    "print(conta.limite)\n",
    "print(conta.numero)\n",
    "\n",
    "conta = Conta('kelly', 123)\n",
    "print(conta.numero)"
   ]
  },
  {
   "cell_type": "code",
   "execution_count": 16,
   "metadata": {},
   "outputs": [
    {
     "data": {
      "text/plain": [
       "6"
      ]
     },
     "execution_count": 16,
     "metadata": {},
     "output_type": "execute_result"
    }
   ],
   "source": [
    "dobro = lambda x: x*2\n",
    "dobro(3)"
   ]
  },
  {
   "cell_type": "code",
   "execution_count": 17,
   "metadata": {},
   "outputs": [
    {
     "data": {
      "text/plain": [
       "3"
      ]
     },
     "execution_count": 17,
     "metadata": {},
     "output_type": "execute_result"
    }
   ],
   "source": [
    "soma = lambda x,y: x+y\n",
    "soma(1,2)"
   ]
  },
  {
   "cell_type": "code",
   "execution_count": 18,
   "metadata": {},
   "outputs": [
    {
     "data": {
      "text/plain": [
       "[2, 4, 6, 8, 10]"
      ]
     },
     "execution_count": 18,
     "metadata": {},
     "output_type": "execute_result"
    }
   ],
   "source": [
    "lista = [1,2,3,4,5,6,7,8,9,10]\n",
    "filter(lambda x: x % 2 ==0, lista)\n",
    "list(filter(lambda x: x % 2 ==0, lista))\n",
    "\n",
    "#Filter e Map recebem uma função como parâmetro"
   ]
  },
  {
   "cell_type": "code",
   "execution_count": 19,
   "metadata": {},
   "outputs": [
    {
     "data": {
      "text/plain": [
       "[2, 4, 6, 8, 10, 12, 14, 16, 18, 20]"
      ]
     },
     "execution_count": 19,
     "metadata": {},
     "output_type": "execute_result"
    }
   ],
   "source": [
    "list(map(lambda x: x * 2, lista))"
   ]
  }
 ],
 "metadata": {
  "kernelspec": {
   "display_name": "Python 3",
   "language": "python",
   "name": "python3"
  },
  "language_info": {
   "codemirror_mode": {
    "name": "ipython",
    "version": 3
   },
   "file_extension": ".py",
   "mimetype": "text/x-python",
   "name": "python",
   "nbconvert_exporter": "python",
   "pygments_lexer": "ipython3",
   "version": "3.6.3"
  }
 },
 "nbformat": 4,
 "nbformat_minor": 2
}
