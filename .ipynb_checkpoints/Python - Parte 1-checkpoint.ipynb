{
 "cells": [
  {
   "cell_type": "markdown",
   "metadata": {},
   "source": [
    "<center><img src=\"logo.jpg\"></center>"
   ]
  },
  {
   "cell_type": "code",
   "execution_count": 1,
   "metadata": {},
   "outputs": [
    {
     "name": "stdout",
     "output_type": "stream",
     "text": [
      "Hello World!\n"
     ]
    }
   ],
   "source": [
    "print(\"Hello World!\")"
   ]
  },
  {
   "cell_type": "code",
   "execution_count": 4,
   "metadata": {},
   "outputs": [
    {
     "name": "stdout",
     "output_type": "stream",
     "text": [
      "3.0\n"
     ]
    }
   ],
   "source": [
    "média = (2 + 4)/2 #Permite acentos em nomes de variáveis\n",
    "print(média)"
   ]
  },
  {
   "cell_type": "code",
   "execution_count": 6,
   "metadata": {},
   "outputs": [
    {
     "data": {
      "text/plain": [
       "int"
      ]
     },
     "execution_count": 6,
     "metadata": {},
     "output_type": "execute_result"
    }
   ],
   "source": [
    "idade = 20\n",
    "type(idade)"
   ]
  },
  {
   "cell_type": "code",
   "execution_count": 8,
   "metadata": {},
   "outputs": [
    {
     "data": {
      "text/plain": [
       "float"
      ]
     },
     "execution_count": 8,
     "metadata": {},
     "output_type": "execute_result"
    }
   ],
   "source": [
    "pi = 3.14\n",
    "type(pi)"
   ]
  },
  {
   "cell_type": "code",
   "execution_count": 15,
   "metadata": {},
   "outputs": [
    {
     "name": "stdout",
     "output_type": "stream",
     "text": [
      "True\n",
      "False\n",
      "2\n"
     ]
    }
   ],
   "source": [
    "n1 = 10\n",
    "n2 = 20\n",
    "print(n1<n2)\n",
    "print(n1==n2)\n",
    "print(n2 // n1) # Divisão Inteira\n"
   ]
  },
  {
   "cell_type": "code",
   "execution_count": 17,
   "metadata": {},
   "outputs": [
    {
     "name": "stdout",
     "output_type": "stream",
     "text": [
      "1024\n"
     ]
    }
   ],
   "source": [
    "base = 2\n",
    "exp = 10\n",
    "print (base ** exp) #Exponenciação **"
   ]
  },
  {
   "cell_type": "code",
   "execution_count": 20,
   "metadata": {},
   "outputs": [
    {
     "name": "stdout",
     "output_type": "stream",
     "text": [
      "False\n",
      "False\n",
      "True\n"
     ]
    }
   ],
   "source": [
    "print(not True)\n",
    "print(True and False)\n",
    "print(True or False)"
   ]
  },
  {
   "cell_type": "code",
   "execution_count": 36,
   "metadata": {},
   "outputs": [
    {
     "name": "stdout",
     "output_type": "stream",
     "text": [
      "<class 'str'>\n",
      "Tiago\n",
      "Tia\n",
      "Ti\n",
      "iago\n",
      "g\n",
      "5\n",
      "5\n",
      "ago\n",
      "Tiago Malveira\n"
     ]
    },
    {
     "data": {
      "text/plain": [
       "'Tiago tem 30 anos'"
      ]
     },
     "execution_count": 36,
     "metadata": {},
     "output_type": "execute_result"
    }
   ],
   "source": [
    "nome = \"Tiago\"\n",
    "print(type(nome))\n",
    "print(nome)\n",
    "print(nome[:3])\n",
    "print(nome[:2])\n",
    "print(nome[1:])\n",
    "print(nome[-2])\n",
    "print(len(nome))\n",
    "print(str.__len__(nome)) #Métodos mágicos, pode ser chamado len(x)\n",
    "print(nome[-3:])\n",
    "print(\"Tiago \" + 'Malveira')\n",
    "idade = 30\n",
    "\"%s tem %d anos\" % (nome,idade)"
   ]
  },
  {
   "cell_type": "code",
   "execution_count": 42,
   "metadata": {},
   "outputs": [
    {
     "name": "stdout",
     "output_type": "stream",
     "text": [
      "3.123456\n",
      "3.123\n"
     ]
    }
   ],
   "source": [
    "media = 3.123456\n",
    "print(media)\n",
    "print('%.3f' % media)"
   ]
  },
  {
   "cell_type": "code",
   "execution_count": 46,
   "metadata": {},
   "outputs": [
    {
     "name": "stdout",
     "output_type": "stream",
     "text": [
      "Tiago\n",
      "Kelly\n",
      "140193104519040\n",
      "140193103498800\n",
      "Tiago\n",
      "Tiago\n",
      "140193104519040\n",
      "140193104519040\n"
     ]
    }
   ],
   "source": [
    "nome = 'Tiago'\n",
    "nome2 = 'Kelly'\n",
    "\n",
    "print(nome)\n",
    "print(nome2)\n",
    "print(id(nome))\n",
    "print(id(nome2))\n",
    "\n",
    "\n",
    "nome2 = nome\n",
    "\n",
    "print(nome)\n",
    "print(nome2)\n",
    "print(id(nome))\n",
    "print(id(nome2))"
   ]
  },
  {
   "cell_type": "code",
   "execution_count": 48,
   "metadata": {},
   "outputs": [
    {
     "name": "stdout",
     "output_type": "stream",
     "text": [
      "Tiago\n",
      "Tiago\n",
      "140193104519040\n",
      "140193104519040\n"
     ]
    }
   ],
   "source": [
    "nome = 'Tiago'\n",
    "nome2 = 'Tiago'\n",
    "\n",
    "print(nome)\n",
    "print(nome2)\n",
    "print(id(nome))\n",
    "print(id(nome2))\n",
    "\n",
    "#Mesmo ID\n",
    "#String é imutável\n"
   ]
  },
  {
   "cell_type": "code",
   "execution_count": 50,
   "metadata": {},
   "outputs": [
    {
     "name": "stdout",
     "output_type": "stream",
     "text": [
      "Maior\n"
     ]
    }
   ],
   "source": [
    "idade = 20\n",
    "if idade >= 18:\n",
    "    print('Maior')\n",
    "else:\n",
    "    print('Menor')"
   ]
  },
  {
   "cell_type": "code",
   "execution_count": 58,
   "metadata": {},
   "outputs": [
    {
     "name": "stdout",
     "output_type": "stream",
     "text": [
      "0 1 2 3 4 5 6 7 8 9 "
     ]
    }
   ],
   "source": [
    "for x in range(10):\n",
    "    print(x, end = ' ')"
   ]
  },
  {
   "cell_type": "code",
   "execution_count": 57,
   "metadata": {},
   "outputs": [
    {
     "name": "stdout",
     "output_type": "stream",
     "text": [
      "0 1 2 3 4 5 6 7 8 9 10 "
     ]
    }
   ],
   "source": [
    "cont = 0\n",
    "while cont <= 10:\n",
    "    print(cont, end= ' ')\n",
    "    cont += 1"
   ]
  }
 ],
 "metadata": {
  "kernelspec": {
   "display_name": "Python 3",
   "language": "python",
   "name": "python3"
  },
  "language_info": {
   "codemirror_mode": {
    "name": "ipython",
    "version": 3
   },
   "file_extension": ".py",
   "mimetype": "text/x-python",
   "name": "python",
   "nbconvert_exporter": "python",
   "pygments_lexer": "ipython3",
   "version": "3.6.3"
  }
 },
 "nbformat": 4,
 "nbformat_minor": 2
}
